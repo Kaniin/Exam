{
 "cells": [
  {
   "cell_type": "code",
   "execution_count": 1,
   "id": "a63ac0cd",
   "metadata": {},
   "outputs": [],
   "source": [
    "import numpy as np\n",
    "from numpy import random\n",
    "\n",
    "destination = [\"A\",\"B\",\"C\",\"D\",\"E\"]\n",
    "distancevalue = np.asarray([\n",
    "                        [0,2,5,8,0],#A\n",
    "                        [2,0,0,3,4],#B\n",
    "                        [5,0,0,4,3],#C\n",
    "                        [8,3,4,0,2],#D\n",
    "                        [0,4,3,2,0] #E\n",
    "                    ])\n",
    "\n",
    "class Bestdistance:\n",
    "      def __init__(self,KM,beginning,End):\n",
    "        self.distance = KM\n",
    "        self.start = next(x for x in range(len(destination)) if beginning==destination[x])\n",
    "        self.end = next(x for x in range(len(destination)) if End==destination[x])\n",
    "        self.value = []\n",
    "        self.set = []\n",
    "        self.check = []\n",
    "        self.score = []\n",
    "\n",
    "      def Distance(self,start,route):\n",
    "        count=0\n",
    "        while count < len(distancevalue[start]):\n",
    "          c = distancevalue[start][count]\n",
    "          route+=1\n",
    "          if c != 0:\n",
    "            self.value.append(route)\n",
    "          count+=1\n",
    "        rd=self.value[random.randint(0, len(self.value))]\n",
    "        return rd\n",
    "\n",
    "      def CalculateDistance(self):\n",
    "        rate=0\n",
    "        Sum=0\n",
    "        while rate<1000:\n",
    "          n=[]\n",
    "          pre_start=self.start\n",
    "          select=0\n",
    "          while self.end != pre_start:\n",
    "            self.value=[]\n",
    "            select=self.Distance(pre_start,-1)\n",
    "            Sum+=distancevalue[pre_start][select]\n",
    "            n.append(destination[select])\n",
    "            pre_start=select\n",
    "          self.set.append(Sum)\n",
    "          self.score.append(n)\n",
    "          Sum=0\n",
    "          pre_start=self.start\n",
    "          rate+=1\n",
    "\n",
    "      def Check(self):\n",
    "        for i in self.set:\n",
    "          if i > self.distance:\n",
    "            self.check.append(i-self.distance)\n",
    "          else:\n",
    "            self.check.append(self.distance-i)\n",
    "\n",
    "      def Display(self):\n",
    "        print(destination[self.start],\" -->\",end=\" \")\n",
    "        for i in range(len(self.check)):\n",
    "          if min(self.check)==self.check[i]:\n",
    "            display=self.score[i]\n",
    "            total=self.set[i]\n",
    "        for j in range(len(display)):\n",
    "          if j < len(display)-1:\n",
    "            print(display[j], \" -->\",end=\" \")\n",
    "          else:\n",
    "            print(display[j],end=\" \")"
   ]
  },
  {
   "cell_type": "code",
   "execution_count": 2,
   "id": "8376ae96",
   "metadata": {},
   "outputs": [
    {
     "name": "stdout",
     "output_type": "stream",
     "text": [
      "ระยะทาง 17 km\n",
      "A  --> B  --> E  --> B  --> E  --> C "
     ]
    }
   ],
   "source": [
    "#---------------- Main Class -----------------------\n",
    "KM = int(17)\n",
    "beginning = 'A'\n",
    "End = 'C'\n",
    "print('ระยะทาง',KM,'km')\n",
    "\n",
    "BD = Bestdistance(KM,beginning,End)\n",
    "BD.CalculateDistance()\n",
    "BD.Check()\n",
    "BD.Display()"
   ]
  }
 ],
 "metadata": {
  "kernelspec": {
   "display_name": "Python 3",
   "language": "python",
   "name": "python3"
  },
  "language_info": {
   "codemirror_mode": {
    "name": "ipython",
    "version": 3
   },
   "file_extension": ".py",
   "mimetype": "text/x-python",
   "name": "python",
   "nbconvert_exporter": "python",
   "pygments_lexer": "ipython3",
   "version": "3.8.8"
  }
 },
 "nbformat": 4,
 "nbformat_minor": 5
}
